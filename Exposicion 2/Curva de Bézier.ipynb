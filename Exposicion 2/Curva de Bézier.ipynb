{
 "cells": [
  {
   "cell_type": "markdown",
   "metadata": {},
   "source": [
    "# Curva de Bézier\n",
    "\n"
   ]
  },
  {
   "cell_type": "code",
   "execution_count": 4,
   "metadata": {},
   "outputs": [],
   "source": [
    "def plotCurves(polys, points, name):\n",
    "    x = var('t')\n",
    "    a = plot([],figsize=(8, 8),title=name)\n",
    "    classic_colors = ['red', 'green']\n",
    "    for i in range(len(polys)): # Plots parametric polynomials\n",
    "        p = polys[i]\n",
    "        a += parametric_plot([p[0], p[1]], (x, p[2], p[2] + 1), color = classic_colors[i])\n",
    "    for i in range(len(points) - 1): # Plots shape of points' polygon\n",
    "        j = (i + 1) % len(points)\n",
    "        p = [points[i][0] * t + points[j][0] * (1 - t), points[i][1] * t + points[j][1] * (1 - t),0]\n",
    "        a += parametric_plot([p[0], p[1]], (x, p[2], p[2] + 1), color = 'blue')\n",
    "    show(a)"
   ]
  },
  {
   "cell_type": "code",
   "execution_count": 5,
   "metadata": {},
   "outputs": [],
   "source": [
    "def Bezier(points): # 2D Bézier Curve for points in list \"points\"\n",
    "    n = len(points) - 1\n",
    "    # Preprocess binom(n, i) for all i = 0, ..., n O(n^2)\n",
    "    # Uses property C(n, k) = C(n - 1, k - 1) + C(n - 1, k)\n",
    "    # And memory saving for Dynamic Programming\n",
    "    C = [0 for i in range(n + 1)]\n",
    "    new_C = [0 for i in range(n + 1)]\n",
    "    C[0] = C[1] = 1\n",
    "    i = 2\n",
    "    while i <= n:\n",
    "        new_C[0] = new_C[i] = 1\n",
    "        j = 1\n",
    "        while j < i:\n",
    "            new_C[j] = C[j - 1] + C[j]\n",
    "            j += 1\n",
    "        for j in range(i + 1):\n",
    "            C[j] = new_C[j]\n",
    "        i += 1\n",
    "    # Preprocessing Bernstein Polynomials O(n^3)\n",
    "    var('t')\n",
    "    polys = [1 for i in range(n + 1)]\n",
    "    prefix = 1\n",
    "    for i in range(n + 1):\n",
    "        polys[i] *= C[i] * prefix\n",
    "        prefix *= t\n",
    "    prefix = 1\n",
    "    for i in range(n, -1, -1):\n",
    "        polys[i] *= prefix\n",
    "        prefix *= (1 - t)\n",
    "    # Multiplying by each point and adding to parametric O(n^2)\n",
    "    P = [0 for i in range(3)]\n",
    "    for i in range(n + 1):\n",
    "        for j in range(2):\n",
    "            P[j] += polys[i] * points[i][j]\n",
    "    return P"
   ]
  },
  {
   "cell_type": "code",
   "execution_count": 2,
   "metadata": {},
   "outputs": [
    {
     "data": {
      "text/plain": [
       "[-(t - 1)^3 + 9*(t - 1)^2*t - 18*(t - 1)*t^2 + 8*t^3,\n",
       " 9*(t - 1)^2*t - 9*(t - 1)*t^2 + t^3,\n",
       " 0]"
      ]
     },
     "execution_count": 2,
     "metadata": {},
     "output_type": "execute_result"
    }
   ],
   "source": [
    "Bezier([(1, 0), (3, 3), (6, 3), (8, 1)])"
   ]
  },
  {
   "cell_type": "code",
   "execution_count": 6,
   "metadata": {},
   "outputs": [],
   "source": [
    "def plotBezierAndBSpline(points):\n",
    "    Bez = Bezier(points)\n",
    "    Bsp = Bezier(points)\n",
    "    plotCurves([Bez, Bsp], points, \"Curvas de Bezier (Rojo) y B-Spline(verde)\")"
   ]
  },
  {
   "cell_type": "code",
   "execution_count": null,
   "metadata": {},
   "outputs": [],
   "source": [
    "plotBezierAndBSpline([(1, 0), (3, 3), (2, 10), (11, 5), (5, 9)])"
   ]
  },
  {
   "cell_type": "code",
   "execution_count": null,
   "metadata": {},
   "outputs": [],
   "source": []
  }
 ],
 "metadata": {
  "kernelspec": {
   "display_name": "SageMath 8.1",
   "language": "",
   "name": "sagemath"
  },
  "language_info": {
   "codemirror_mode": {
    "name": "ipython",
    "version": 2
   },
   "file_extension": ".py",
   "mimetype": "text/x-python",
   "name": "python",
   "nbconvert_exporter": "python",
   "pygments_lexer": "ipython2",
   "version": "2.7.17"
  }
 },
 "nbformat": 4,
 "nbformat_minor": 2
}
